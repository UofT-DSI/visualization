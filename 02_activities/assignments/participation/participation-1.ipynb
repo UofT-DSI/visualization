{
 "cells": [
  {
   "cell_type": "code",
   "execution_count": 1,
   "metadata": {},
   "outputs": [],
   "source": [
    "# importing necessary libraries \n",
    "import matplotlib.pyplot as plt\n",
    "import pandas as pd"
   ]
  },
  {
   "cell_type": "code",
   "execution_count": 2,
   "metadata": {},
   "outputs": [],
   "source": [
    "#adding data information\n",
    "height = [3, 12, 5, 18, 45]\n",
    "bars = ('A', 'B', 'C', 'D', 'E')\n",
    "\n",
    "#creating df\n",
    "df = pd.DataFrame({'height': height,\n",
    "                   'bars': bars})"
   ]
  },
  {
   "cell_type": "code",
   "execution_count": 5,
   "metadata": {},
   "outputs": [
    {
     "data": {
      "image/png": "[encoded data removed]",
      "text/plain": [
       "<Figure size 640x480 with 1 Axes>"
      ]
     },
     "metadata": {},
     "output_type": "display_data"
    }
   ],
   "source": [
    "#Setting bar and edge colours\n",
    "color = ['lightblue', 'blue', 'purple', 'red', 'black']\n",
    "edgecolor = ['red', 'orange', 'darkblue', 'darkred', 'yellow']\n",
    "\n",
    "# Create bars\n",
    "fig, ax = plt.subplots()\n",
    "ax.bar(df['bars'], df['height'],\n",
    "       color=color,\n",
    "       edgecolor=edgecolor,\n",
    "       linewidth=3)\n",
    "\n",
    "# Show graph\n",
    "plt.show()"
   ]
  }
 ],
 "metadata": {
  "kernelspec": {
   "display_name": "dsi_participant",
   "language": "python",
   "name": "python3"
  },
  "language_info": {
   "codemirror_mode": {
    "name": "ipython",
    "version": 3
   },
   "file_extension": ".py",
   "mimetype": "text/x-python",
   "name": "python",
   "nbconvert_exporter": "python",
   "pygments_lexer": "ipython3",
   "version": "3.9.15"
  }
 },
 "nbformat": 4,
 "nbformat_minor": 2
}
