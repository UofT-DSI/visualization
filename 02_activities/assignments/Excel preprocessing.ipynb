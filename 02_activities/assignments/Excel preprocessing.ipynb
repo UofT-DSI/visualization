{
 "cells": [
  {
   "cell_type": "code",
   "execution_count": 1,
   "id": "6148ab34",
   "metadata": {},
   "outputs": [
    {
     "name": "stdout",
     "output_type": "stream",
     "text": [
      "Loading data/SR2021.csv...\n",
      "Loading data/SR2022.csv...\n",
      "Loading data/SR2023.csv...\n",
      "Loading data/SR2024.csv...\n",
      "Combined shape: (1540582, 9)\n",
      "                     Ward  Year                     Service Request Type  \\\n",
      "0  Beaches-East York (19)  2021                    Access/AODA Complaint   \n",
      "1  Beaches-East York (19)  2021                  Accessibility Complaint   \n",
      "2  Beaches-East York (19)  2021                            Adequate Heat   \n",
      "3  Beaches-East York (19)  2021    All / Hazardous Waste / Not Picked Up   \n",
      "4  Beaches-East York (19)  2021  All / Hazardous Waste / Pick Up Request   \n",
      "\n",
      "   Count  \n",
      "0      1  \n",
      "1      5  \n",
      "2     68  \n",
      "3     11  \n",
      "4    521  \n",
      "Exported ward_requests.csv with columns: ['Ward', 'Year', 'Service Request Type', 'Count']\n"
     ]
    }
   ],
   "source": [
    "import pandas as pd\n",
    "\n",
    "# 1. Load and merge the last 5 years of data\n",
    "\n",
    "paths = [\n",
    "    \"data/SR2021.csv\",\n",
    "    \"data/SR2022.csv\",\n",
    "    \"data/SR2023.csv\",\n",
    "    \"data/SR2024.csv\"\n",
    "]\n",
    "\n",
    "frames = []\n",
    "for p in paths:\n",
    "    print(f\"Loading {p}...\")\n",
    "    frames.append(pd.read_csv(p, on_bad_lines='skip'))\n",
    "\n",
    "df = pd.concat(frames, ignore_index=True)\n",
    "print(\"Combined shape:\", df.shape)\n",
    "\n",
    "# 2. Clean date and select relevant columns\n",
    "\n",
    "df['Creation Date'] = pd.to_datetime(df['Creation Date'], errors='coerce')\n",
    "\n",
    "# Drop rows missing critical info\n",
    "df = df.dropna(subset=['Creation Date', 'Service Request Type', 'Ward'])\n",
    "\n",
    "# Add Year column\n",
    "df['Year'] = df['Creation Date'].dt.year\n",
    "\n",
    "\n",
    "# 3. Group by Ward, Year, and Service Request Type\n",
    "\n",
    "ward_df = (\n",
    "    df.groupby(['Ward', 'Year', 'Service Request Type'])\n",
    "    .size()\n",
    "    .reset_index(name='Count')\n",
    ")\n",
    "\n",
    "# Quick check\n",
    "print(ward_df.head())\n",
    "\n",
    "\n",
    "# 4. Export to CSV for Excel\n",
    "\n",
    "ward_df.to_csv(\"ward_requests.csv\", index=False)\n",
    "print(\"Exported ward_requests.csv with columns:\", ward_df.columns.tolist())\n"
   ]
  }
 ],
 "metadata": {
  "kernelspec": {
   "display_name": "dsi_participant",
   "language": "python",
   "name": "python3"
  },
  "language_info": {
   "codemirror_mode": {
    "name": "ipython",
    "version": 3
   },
   "file_extension": ".py",
   "mimetype": "text/x-python",
   "name": "python",
   "nbconvert_exporter": "python",
   "pygments_lexer": "ipython3",
   "version": "3.9.7"
  }
 },
 "nbformat": 4,
 "nbformat_minor": 5
}
