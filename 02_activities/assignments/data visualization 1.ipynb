{
 "cells": [
  {
   "cell_type": "markdown",
   "id": "64010220",
   "metadata": {},
   "source": [
    "Visualization #1: Non Regulated Lead Sample\n",
    "\n",
    "    The City's Residential Lead Testing Program is a non-regulated program provided free of charge to residents concerned about the possibility of lead in their tap drinking water.\n",
    "    Residents can pick up and drop off a water sample kit at one of six Toronto Public Health locations. While each kit contains detailed instructions on how to obtain an accurate tap water sample, the City of Toronto has no control over how or where a sample is obtained. Toronto Water provides lead test results to all residents who submit a test.\n"
   ]
  },
  {
   "cell_type": "code",
   "execution_count": 1,
   "id": "9cac32de",
   "metadata": {},
   "outputs": [],
   "source": [
    "import numpy as np\n",
    "import matplotlib.pyplot as plt\n",
    "import pandas as pd\n",
    "import scipy\n",
    "import PIL\n",
    "import requests"
   ]
  },
  {
   "cell_type": "code",
   "execution_count": null,
   "id": "460c9bb4",
   "metadata": {},
   "outputs": [
    {
     "name": "stdout",
     "output_type": "stream",
     "text": [
      "         _id  Sample Number Sample Date PartialPostalCode Lead Amount (ppm)\n",
      "0          1        1536645  2014-01-01               M4E            0.0078\n",
      "1          2        1535456  2014-01-02               M4K           0.00011\n",
      "2          3        1536641  2014-01-03               M1L          0.000092\n",
      "3          4        1548101  2014-01-06               M3B           0.00019\n",
      "4          5        1540991  2014-01-06               M6H             0.012\n",
      "...      ...            ...         ...               ...               ...\n",
      "13663  13664        3392229  2025-03-11               M4C          0.000420\n",
      "13664  13665        3392234  2025-03-12               M4J          0.000210\n",
      "13665  13666        3392237  2025-03-12               M6J           0.00128\n",
      "13666  13667        3392239  2025-03-13               M6J           0.00005\n",
      "13667  13668        3392241  2025-03-13               M6J          <0.00005\n",
      "\n",
      "[13668 rows x 5 columns]\n"
     ]
    }
   ],
   "source": [
    "#Import csv file\n",
    "def import_csv_with_pandas(file_path):\n",
    "    \"\"\"Imports a CSV file using pandas.\"\"\"\n",
    "    df = pd.read_csv(file_path)\n",
    "    return df\n",
    "\n",
    "file_path = 'Non Regulated Lead Samples.csv'\n",
    "df = import_csv_with_pandas(file_path)\n",
    "print(df)"
   ]
  },
  {
   "cell_type": "code",
   "execution_count": null,
   "id": "a48120bd",
   "metadata": {},
   "outputs": [],
   "source": [
    "#Convert \"Sample Date\" to datetime\n",
    "df['Sample Date'] = pd.to_datetime(df['Sample Date'], errors='coerce')"
   ]
  },
  {
   "cell_type": "code",
   "execution_count": 14,
   "id": "a05ecd3a",
   "metadata": {},
   "outputs": [],
   "source": [
    "df_2024 = df[df['Sample Date'].dt.year == 2024]\n"
   ]
  },
  {
   "cell_type": "code",
   "execution_count": 16,
   "id": "fa172521",
   "metadata": {},
   "outputs": [
    {
     "name": "stderr",
     "output_type": "stream",
     "text": [
      "C:\\Users\\tiann\\AppData\\Local\\Temp\\ipykernel_29364\\3163674609.py:2: SettingWithCopyWarning: \n",
      "A value is trying to be set on a copy of a slice from a DataFrame.\n",
      "Try using .loc[row_indexer,col_indexer] = value instead\n",
      "\n",
      "See the caveats in the documentation: https://pandas.pydata.org/pandas-docs/stable/user_guide/indexing.html#returning-a-view-versus-a-copy\n",
      "  df_2024['Lead Amount (ppm)'] = df_2024['Lead Amount (ppm)'].replace(\n"
     ]
    }
   ],
   "source": [
    "#replace <0.00005 to 0.00005 in column Lead Amount (ppm)\n",
    "df_2024['Lead Amount (ppm)'] = df_2024['Lead Amount (ppm)'].replace(\n",
    "    to_replace=r'<', value='', regex=True\n",
    ").astype(float)"
   ]
  },
  {
   "cell_type": "code",
   "execution_count": 17,
   "id": "6d330baf",
   "metadata": {},
   "outputs": [
    {
     "name": "stderr",
     "output_type": "stream",
     "text": [
      "C:\\Users\\tiann\\AppData\\Local\\Temp\\ipykernel_29364\\1641738521.py:1: SettingWithCopyWarning: \n",
      "A value is trying to be set on a copy of a slice from a DataFrame.\n",
      "Try using .loc[row_indexer,col_indexer] = value instead\n",
      "\n",
      "See the caveats in the documentation: https://pandas.pydata.org/pandas-docs/stable/user_guide/indexing.html#returning-a-view-versus-a-copy\n",
      "  df_2024['Month'] = df_2024['Sample Date'].dt.month\n"
     ]
    }
   ],
   "source": [
    "df_2024['Month'] = df_2024['Sample Date'].dt.month\n",
    "monthly_totals = df_2024.groupby('Month')['Lead Amount (ppm)'].sum().sort_index()\n"
   ]
  },
  {
   "cell_type": "code",
   "execution_count": null,
   "id": "be652d59",
   "metadata": {},
   "outputs": [
    {
     "data": {
      "image/png": "[encoded data removed]",
      "text/plain": [
       "<Figure size 1000x600 with 1 Axes>"
      ]
     },
     "metadata": {},
     "output_type": "display_data"
    }
   ],
   "source": [
    "#Plot total lead amonut per month in 2024\n",
    "\n",
    "\n",
    "plt.figure(figsize=(10, 6))\n",
    "plt.bar(monthly_totals.index, monthly_totals.values)\n",
    "plt.xticks(range(1, 13))\n",
    "plt.xlabel('Month')\n",
    "plt.ylabel('Total Lead Amount (ppm)')\n",
    "plt.title('Total Lead Amount per Month in 2024')\n",
    "plt.tight_layout()\n",
    "plt.show()\n"
   ]
  },
  {
   "cell_type": "markdown",
   "id": "9e122d32",
   "metadata": {},
   "source": [
    "    > What software did you use to create your data visualization?\n",
    "    The software I used is python\n",
    "    > Who is your intended audience? \n",
    "    The intended audience is residents concerned about the possibility of lead in their tap drinking water.\n",
    "    > What information or message are you trying to convey with your visualization? \n",
    "    The information I want to convey is which months had higher or lower total lead levels in the year 2024.\n",
    "    > What aspects of design did you consider when making your visualization? How did you apply them? With what elements of your plots? \n",
    "    Since the data file has data spanning from 2014-01 to 2025, it is difficult to plot the lead amount for all the entrance. So I only ploted the sum of lead amount breaking down by each month in year 2024.\n",
    "    > How did you ensure that your data visualizations are reproducible? If the tool you used to make your data visualization is not reproducible, how will this impact your data visualization? \n",
    "    Use another software to reproduce the data. If not reproducible, then plot is not reliable.\n",
    "    > How did you ensure that your data visualization is accessible?  \n",
    "    By commenting on the code and writing down all codes used to create the plot.\n",
    "    > Who are the individuals and communities who might be impacted by your visualization?  \n",
    "    Residents who are concerned about the months that has the highest possibility of lead in their tap drinking water. \n",
    "    > How did you choose which features of your chosen dataset to include or exclude from your visualization? \n",
    "    I chose based on the data type, the information of the most interest (lead amounnt).\n",
    "    What ‘underwater labour’ contributed to your final data visualization product?\n",
    "    Handled inconsistent values like \"<0.00005\" in the Lead Amount (ppm) column by converting them to usable numeric values."
   ]
  }
 ],
 "metadata": {
  "kernelspec": {
   "display_name": "dsi_participant",
   "language": "python",
   "name": "python3"
  },
  "language_info": {
   "codemirror_mode": {
    "name": "ipython",
    "version": 3
   },
   "file_extension": ".py",
   "mimetype": "text/x-python",
   "name": "python",
   "nbconvert_exporter": "python",
   "pygments_lexer": "ipython3",
   "version": "3.9.15"
  }
 },
 "nbformat": 4,
 "nbformat_minor": 5
}
